{
 "cells": [
  {
   "cell_type": "code",
   "execution_count": 1,
   "metadata": {},
   "outputs": [
    {
     "name": "stdout",
     "output_type": "stream",
     "text": [
      "<class 'list'>\n"
     ]
    }
   ],
   "source": [
    "sentences = open('sent.txt','r')\n",
    "data_list = sentences.readlines()\n",
    "print(type(data_list))\n",
    "sentence_list = []"
   ]
  },
  {
   "cell_type": "code",
   "execution_count": 2,
   "metadata": {},
   "outputs": [],
   "source": [
    "for line in data_list:\n",
    "    sentence_list.append(line.lower())\n"
   ]
  },
  {
   "cell_type": "code",
   "execution_count": 18,
   "metadata": {},
   "outputs": [],
   "source": [
    "import re\n",
    "import numpy as np"
   ]
  },
  {
   "cell_type": "code",
   "execution_count": 10,
   "metadata": {},
   "outputs": [],
   "source": [
    "words = {}\n",
    "index_word=0\n",
    "#re.split('[^a-z]', sentence_list)"
   ]
  },
  {
   "cell_type": "code",
   "execution_count": 11,
   "metadata": {},
   "outputs": [],
   "source": [
    "for line in sentence_list:\n",
    "    for word in re.split('[^a-z]', line):\n",
    "        if (words.get(word)==None)&(word!=''):\n",
    "            words[word]=index_word\n",
    "            index_word=index_word+1"
   ]
  },
  {
   "cell_type": "code",
   "execution_count": 12,
   "metadata": {},
   "outputs": [
    {
     "data": {
      "text/plain": [
       "0"
      ]
     },
     "execution_count": 12,
     "metadata": {},
     "output_type": "execute_result"
    }
   ],
   "source": [
    "words.pop('',0)\n",
    "\n"
   ]
  },
  {
   "cell_type": "code",
   "execution_count": 17,
   "metadata": {},
   "outputs": [
    {
     "data": {
      "text/plain": [
       "dict"
      ]
     },
     "execution_count": 17,
     "metadata": {},
     "output_type": "execute_result"
    }
   ],
   "source": [
    "type(words)\n"
   ]
  },
  {
   "cell_type": "code",
   "execution_count": 16,
   "metadata": {},
   "outputs": [
    {
     "data": {
      "text/plain": [
       "{'in': 0,\n",
       " 'comparison': 1,\n",
       " 'to': 2,\n",
       " 'dogs': 3,\n",
       " 'cats': 4,\n",
       " 'have': 5,\n",
       " 'not': 6,\n",
       " 'undergone': 7,\n",
       " 'major': 8,\n",
       " 'changes': 9,\n",
       " 'during': 10,\n",
       " 'the': 11,\n",
       " 'domestication': 12,\n",
       " 'process': 13,\n",
       " 'as': 14,\n",
       " 'cat': 15,\n",
       " 'simply': 16,\n",
       " 'catenates': 17,\n",
       " 'streams': 18,\n",
       " 'of': 19,\n",
       " 'bytes': 20,\n",
       " 'it': 21,\n",
       " 'can': 22,\n",
       " 'be': 23,\n",
       " 'also': 24,\n",
       " 'used': 25,\n",
       " 'concatenate': 26,\n",
       " 'binary': 27,\n",
       " 'files': 28,\n",
       " 'where': 29,\n",
       " 'will': 30,\n",
       " 'just': 31,\n",
       " 'sequence': 32,\n",
       " 'a': 33,\n",
       " 'common': 34,\n",
       " 'interactive': 35,\n",
       " 'use': 36,\n",
       " 'for': 37,\n",
       " 'single': 38,\n",
       " 'file': 39,\n",
       " 'is': 40,\n",
       " 'output': 41,\n",
       " 'content': 42,\n",
       " 'standard': 43,\n",
       " 'hear': 44,\n",
       " 'sounds': 45,\n",
       " 'too': 46,\n",
       " 'faint': 47,\n",
       " 'or': 48,\n",
       " 'high': 49,\n",
       " 'frequency': 50,\n",
       " 'human': 51,\n",
       " 'ears': 52,\n",
       " 'such': 53,\n",
       " 'those': 54,\n",
       " 'made': 55,\n",
       " 'by': 56,\n",
       " 'mice': 57,\n",
       " 'and': 58,\n",
       " 'other': 59,\n",
       " 'small': 60,\n",
       " 'animals': 61,\n",
       " 'one': 62,\n",
       " 'people': 63,\n",
       " 'deliberately': 64,\n",
       " 'tamed': 65,\n",
       " 'artificial': 66,\n",
       " 'selection': 67,\n",
       " 'they': 68,\n",
       " 'were': 69,\n",
       " 'useful': 70,\n",
       " 'predators': 71,\n",
       " 'vermin': 72,\n",
       " 'domesticated': 73,\n",
       " 'its': 74,\n",
       " 'closest': 75,\n",
       " 'wild': 76,\n",
       " 'ancestor': 77,\n",
       " 'are': 78,\n",
       " 'both': 79,\n",
       " 'diploid': 80,\n",
       " 'organisms': 81,\n",
       " 'that': 82,\n",
       " 'possess': 83,\n",
       " 'chromosomes': 84,\n",
       " 'roughly': 85,\n",
       " 'genes': 86,\n",
       " 'domestic': 87,\n",
       " 'similar': 88,\n",
       " 'size': 89,\n",
       " 'members': 90,\n",
       " 'genus': 91,\n",
       " 'felis': 92,\n",
       " 'typically': 93,\n",
       " 'weighing': 94,\n",
       " 'between': 95,\n",
       " 'kg': 96,\n",
       " 'lb': 97,\n",
       " 'however': 98,\n",
       " 'if': 99,\n",
       " 'piped': 100,\n",
       " 'redirected': 101,\n",
       " 'unnecessary': 102,\n",
       " 'with': 103,\n",
       " 'named': 104,\n",
       " 'safer': 105,\n",
       " 'error': 106,\n",
       " 'concern': 107,\n",
       " 'wrong': 108,\n",
       " 'default': 109,\n",
       " 'redirection': 110,\n",
       " 'symbol': 111,\n",
       " 'instead': 112,\n",
       " 'often': 113,\n",
       " 'adjacent': 114,\n",
       " 'on': 115,\n",
       " 'keyboards': 116,\n",
       " 'may': 117,\n",
       " 'permanently': 118,\n",
       " 'delete': 119,\n",
       " 'you': 120,\n",
       " 'needing': 121,\n",
       " 'read': 122,\n",
       " 'terms': 123,\n",
       " 'legibility': 124,\n",
       " 'commands': 125,\n",
       " 'starting': 126,\n",
       " 'connected': 127,\n",
       " 'pipes': 128,\n",
       " 'has': 129,\n",
       " 'clear': 130,\n",
       " 'left': 131,\n",
       " 'right': 132,\n",
       " 'flow': 133,\n",
       " 'information': 134,\n",
       " 'command': 135,\n",
       " 'basic': 136,\n",
       " 'learned': 137,\n",
       " 'when': 138,\n",
       " 'started': 139,\n",
       " 'unix': 140,\n",
       " 'linux': 141,\n",
       " 'world': 142,\n",
       " 'using': 143,\n",
       " 'lines': 144,\n",
       " 'received': 145,\n",
       " 'from': 146,\n",
       " 'stdin': 147,\n",
       " 'new': 148,\n",
       " 'symbols': 149,\n",
       " 'type': 150,\n",
       " 'without': 151,\n",
       " 'any': 152,\n",
       " 'arguments': 153,\n",
       " 'receives': 154,\n",
       " 'displays': 155,\n",
       " 'stdout': 156,\n",
       " 'leopard': 157,\n",
       " 'was': 158,\n",
       " 'released': 159,\n",
       " 'october': 160,\n",
       " 'successor': 161,\n",
       " 'tiger': 162,\n",
       " 'version': 163,\n",
       " 'available': 164,\n",
       " 'two': 165,\n",
       " 'editions': 166,\n",
       " 'according': 167,\n",
       " 'apple': 168,\n",
       " 'contains': 169,\n",
       " 'over': 170,\n",
       " 'enhancements': 171,\n",
       " 'predecessor': 172,\n",
       " 'mac': 173,\n",
       " 'os': 174,\n",
       " 'x': 175,\n",
       " 'mid': 176,\n",
       " 'some': 177,\n",
       " 'computers': 178,\n",
       " 'firmware': 179,\n",
       " 'factory': 180,\n",
       " 'installed': 181,\n",
       " 'which': 182,\n",
       " 'no': 183,\n",
       " 'longer': 184,\n",
       " 'allow': 185,\n",
       " 'installation': 186,\n",
       " 'since': 187,\n",
       " 'moved': 188,\n",
       " 'intel': 189,\n",
       " 'processors': 190,\n",
       " 'their': 191,\n",
       " 'osx': 192,\n",
       " 'community': 193,\n",
       " 'developed': 194,\n",
       " 'now': 195,\n",
       " 'allows': 196,\n",
       " 'later': 197,\n",
       " 'releases': 198,\n",
       " 'non': 199,\n",
       " 'based': 200,\n",
       " 'mountain': 201,\n",
       " 'lion': 202,\n",
       " 'july': 203,\n",
       " 'purchase': 204,\n",
       " 'download': 205,\n",
       " 'through': 206,\n",
       " 's': 207,\n",
       " 'app': 208,\n",
       " 'store': 209,\n",
       " 'part': 210,\n",
       " 'switch': 211,\n",
       " 'releasing': 212,\n",
       " 'versions': 213,\n",
       " 'online': 214,\n",
       " 'every': 215,\n",
       " 'year': 216,\n",
       " 'patch': 217,\n",
       " 'three': 218,\n",
       " 'most': 219,\n",
       " 'recent': 220,\n",
       " 'safari': 221,\n",
       " 'running': 222,\n",
       " 'yosemite': 223,\n",
       " 'mavericks': 224,\n",
       " 'release': 225,\n",
       " 'marks': 226,\n",
       " 'second': 227,\n",
       " 'time': 228,\n",
       " 'offered': 229,\n",
       " 'an': 230,\n",
       " 'incremental': 231,\n",
       " 'upgrade': 232,\n",
       " 'rather': 233,\n",
       " 'than': 234,\n",
       " 'entirely': 235,\n",
       " 'installs': 236,\n",
       " 'place': 237,\n",
       " 'so': 238,\n",
       " 'won': 239,\n",
       " 't': 240,\n",
       " 'need': 241,\n",
       " 'create': 242,\n",
       " 'separate': 243,\n",
       " 'disk': 244,\n",
       " 'run': 245,\n",
       " 'off': 246,\n",
       " 'external': 247,\n",
       " 'drive': 248,\n",
       " 'fifth': 249,\n",
       " 'update': 250,\n",
       " 'features': 251,\n",
       " 'more': 252,\n",
       " 'count': 253}"
      ]
     },
     "execution_count": 16,
     "metadata": {},
     "output_type": "execute_result"
    }
   ],
   "source": [
    "words"
   ]
  },
  {
   "cell_type": "code",
   "execution_count": 47,
   "metadata": {},
   "outputs": [],
   "source": [
    "mtrx= np.zeros((22,254))\n"
   ]
  },
  {
   "cell_type": "code",
   "execution_count": 48,
   "metadata": {},
   "outputs": [],
   "source": [
    "index_line = 0\n",
    "for line in sentence_list:\n",
    "    for word in re.split('[^a-z]', line):\n",
    "        if (word != ''):\n",
    "            index_column=words[word]\n",
    "            mtrx[index_line,index_column] += 1\n",
    "    index_line = index_line +1 \n",
    "    \n",
    "        "
   ]
  },
  {
   "cell_type": "code",
   "execution_count": 49,
   "metadata": {},
   "outputs": [],
   "source": [
    "from scipy.spatial import distance"
   ]
  },
  {
   "cell_type": "code",
   "execution_count": 65,
   "metadata": {},
   "outputs": [],
   "source": [
    "response = {}\n",
    "for i in range(1,22):\n",
    "    response[i] = distance.cosine(mtrx[0, :], mtrx[i, :]) \n",
    "    response_sorted = sorted(response.items(), key=lambda item: item[1])  "
   ]
  },
  {
   "cell_type": "code",
   "execution_count": 80,
   "metadata": {},
   "outputs": [],
   "source": [
    "input_file = open('submission-1.txt','w')\n",
    "input_file.write(str(response_sorted[0][0]) + ' ' + str(response_sorted[1][0]))\n",
    "input_file.close()"
   ]
  },
  {
   "cell_type": "code",
   "execution_count": 81,
   "metadata": {},
   "outputs": [
    {
     "data": {
      "text/plain": [
       "[(6, 0.7327387580875756),\n",
       " (4, 0.7770887149698589),\n",
       " (21, 0.8250364469440588),\n",
       " (10, 0.8328165362273942),\n",
       " (12, 0.8396432548525454),\n",
       " (16, 0.8406361854220809),\n",
       " (20, 0.8427572744917122),\n",
       " (2, 0.8644738145642124),\n",
       " (13, 0.8703592552895671),\n",
       " (14, 0.8740118423302576),\n",
       " (11, 0.8804771390665607),\n",
       " (8, 0.8842724875284311),\n",
       " (19, 0.8885443574849294),\n",
       " (3, 0.8951715163278082),\n",
       " (9, 0.9055088817476932),\n",
       " (7, 0.9258750683338899),\n",
       " (5, 0.9402385695332803),\n",
       " (15, 0.9442721787424647),\n",
       " (18, 0.9442721787424647),\n",
       " (1, 0.9527544408738466),\n",
       " (17, 0.956644501523794)]"
      ]
     },
     "execution_count": 81,
     "metadata": {},
     "output_type": "execute_result"
    }
   ],
   "source": [
    "response_sorted"
   ]
  }
 ],
 "metadata": {
  "kernelspec": {
   "display_name": "Python 3",
   "language": "python",
   "name": "python3"
  },
  "language_info": {
   "codemirror_mode": {
    "name": "ipython",
    "version": 3
   },
   "file_extension": ".py",
   "mimetype": "text/x-python",
   "name": "python",
   "nbconvert_exporter": "python",
   "pygments_lexer": "ipython3",
   "version": "3.6.5"
  }
 },
 "nbformat": 4,
 "nbformat_minor": 2
}
