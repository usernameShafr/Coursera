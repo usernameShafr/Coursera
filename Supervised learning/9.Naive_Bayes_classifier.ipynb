{
 "cells": [
  {
   "cell_type": "code",
   "execution_count": 1,
   "metadata": {},
   "outputs": [],
   "source": [
    "from sklearn import datasets,model_selection, tree, metrics\n",
    "import numpy as np\n",
    "import pandas as pd"
   ]
  },
  {
   "cell_type": "code",
   "execution_count": 2,
   "metadata": {},
   "outputs": [],
   "source": [
    "X_d_train, y_d_train = datasets.load_digits(return_X_y=True)\n",
    "X_bc_train, y_bc_train = datasets.load_breast_cancer(return_X_y=True)"
   ]
  },
  {
   "cell_type": "code",
   "execution_count": null,
   "metadata": {},
   "outputs": [],
   "source": []
  },
  {
   "cell_type": "code",
   "execution_count": 3,
   "metadata": {},
   "outputs": [],
   "source": [
    "from sklearn import naive_bayes"
   ]
  },
  {
   "cell_type": "code",
   "execution_count": 4,
   "metadata": {},
   "outputs": [],
   "source": [
    "bernoulli_clf = naive_bayes.BernoulliNB()\n",
    "multinomial_clf = naive_bayes.MultinomialNB()\n",
    "gaussian_clf = naive_bayes.GaussianNB()"
   ]
  },
  {
   "cell_type": "code",
   "execution_count": 7,
   "metadata": {},
   "outputs": [],
   "source": [
    "acc_ber_d = model_selection.cross_val_score(bernoulli_clf, X_d_train, y_d_train).mean()\n",
    "acc_ber_bc = model_selection.cross_val_score(bernoulli_clf, X_bc_train, y_bc_train).mean()\n",
    "acc_mul_d = model_selection.cross_val_score(multinomial_clf, X_d_train, y_d_train).mean()\n",
    "acc_mul_bc = model_selection.cross_val_score(multinomial_clf, X_bc_train, y_bc_train).mean()\n",
    "acc_gaus_d = model_selection.cross_val_score(gaussian_clf, X_d_train, y_d_train).mean()\n",
    "acc_gaus_bc = model_selection.cross_val_score(gaussian_clf, X_bc_train, y_bc_train).mean()"
   ]
  },
  {
   "cell_type": "code",
   "execution_count": 8,
   "metadata": {},
   "outputs": [
    {
     "name": "stdout",
     "output_type": "stream",
     "text": [
      "0.6274204028589994 0.8945790401930752 0.9367492806089297\n"
     ]
    }
   ],
   "source": [
    "print(acc_ber_bc,acc_mul_bc, acc_gaus_bc)"
   ]
  },
  {
   "cell_type": "code",
   "execution_count": 9,
   "metadata": {},
   "outputs": [],
   "source": [
    "def write_answers(answer,name_file):\n",
    "    with open(name_file + \".txt\", \"w\") as fout:\n",
    "        fout.write(str(answer))"
   ]
  },
  {
   "cell_type": "code",
   "execution_count": 10,
   "metadata": {},
   "outputs": [],
   "source": [
    "write_answers(acc_gaus_bc, 'Naive Bayes classifier')"
   ]
  },
  {
   "cell_type": "code",
   "execution_count": 11,
   "metadata": {},
   "outputs": [
    {
     "name": "stdout",
     "output_type": "stream",
     "text": [
      "0.8258236507780582 0.8708771489735053 0.8186003803550138\n"
     ]
    }
   ],
   "source": [
    "print(acc_ber_d,acc_mul_d, acc_gaus_d)"
   ]
  },
  {
   "cell_type": "code",
   "execution_count": 12,
   "metadata": {},
   "outputs": [],
   "source": [
    "write_answers(acc_mul_d, 'Naive Bayes classifier2')"
   ]
  },
  {
   "cell_type": "code",
   "execution_count": 15,
   "metadata": {},
   "outputs": [],
   "source": [
    "\n",
    "write_answers(4, 'Naive Bayes classifier3')"
   ]
  },
  {
   "cell_type": "code",
   "execution_count": 16,
   "metadata": {},
   "outputs": [],
   "source": [
    "with open(\"Naive Bayes classifier3.txt\", \"w\") as fout:\n",
    "        fout.write(str(\"3 4\"))"
   ]
  },
  {
   "cell_type": "code",
   "execution_count": null,
   "metadata": {},
   "outputs": [],
   "source": []
  }
 ],
 "metadata": {
  "kernelspec": {
   "display_name": "Python 3",
   "language": "python",
   "name": "python3"
  },
  "language_info": {
   "codemirror_mode": {
    "name": "ipython",
    "version": 3
   },
   "file_extension": ".py",
   "mimetype": "text/x-python",
   "name": "python",
   "nbconvert_exporter": "python",
   "pygments_lexer": "ipython3",
   "version": "3.7.6"
  }
 },
 "nbformat": 4,
 "nbformat_minor": 2
}
